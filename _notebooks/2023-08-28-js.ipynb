{
 "cells": [
  {
   "cell_type": "code",
   "execution_count": null,
   "metadata": {},
   "outputs": [],
   "source": [
    "// Define an array of words to guess\n",
    "var words = [\"javascript\", \"html\", \"css\", \"python\", \"java\", \"ruby\"];\n",
    "\n",
    "// Choose a random word from the array\n",
    "var word = words[Math.floor(Math.random() * words.length)];\n",
    "\n",
    "// Create an array of underscores to represent each letter in the word\n",
    "var answerArray = [];\n",
    "for (var i = 0; i < word.length; i++) {\n",
    "\tanswerArray[i] = \"_\";\n",
    "}\n",
    "\n",
    "// Display the initial state of the word\n",
    "document.getElementById(\"feedback\").innerHTML = answerArray.join(\" \");\n",
    "\n",
    "// Function to check the user's guess\n",
    "function checkGuess() {\n",
    "\tvar guess = document.getElementById(\"guess\").value.toLowerCase();\n",
    "\tvar correctGuess = false;\n",
    "\n",
    "\t// Check if the guess is correct\n",
    "\tfor (var i = 0; i < word.length; i++) {\n",
    "\t\tif (guess === word[i]) {\n",
    "\t\t\tanswerArray[i] = guess;\n",
    "\t\t\tcorrectGuess = true;\n",
    "\t\t}\n",
    "\t}\n",
    "\n",
    "\t// Update the display\n",
    "\tdocument.getElementById(\"feedback\").innerHTML = answerArray.join(\" \");\n",
    "\n",
    "\t// Check if the game is over\n",
    "\tif (!answerArray.includes(\"_\")) {\n",
    "\t\tdocument.getElementById(\"feedback\").innerHTML = \"You win!\";\n",
    "\t} else if (!correctGuess) {\n",
    "\t\tdocument.getElementById(\"feedback\").innerHTML = \"Wrong guess, try again.\";\n",
    "\t}\n",
    "\n",
    "\t// Clear the guess input\n",
    "\tdocument.getElementById(\"guess\").value = \"\";\n",
    "}\n"
   ]
  }
 ],
 "metadata": {
  "kernelspec": {
   "display_name": "JavaScript (Node.js)",
   "language": "javascript",
   "name": "javascript"
  },
  "language_info": {
   "name": "javascript"
  },
  "orig_nbformat": 4
 },
 "nbformat": 4,
 "nbformat_minor": 2
}
