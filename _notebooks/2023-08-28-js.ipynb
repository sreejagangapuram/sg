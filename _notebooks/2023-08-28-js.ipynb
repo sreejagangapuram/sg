{
 "cells": [
  {
   "cell_type": "markdown",
   "metadata": {},
   "source": []
  },
  {
   "cell_type": "code",
   "execution_count": null,
   "metadata": {},
   "outputs": [
    {
     "ename": "",
     "evalue": "",
     "output_type": "error",
     "traceback": [
      "\u001b[1;31mFailed to start the Kernel. \n",
      "\u001b[1;31mnode:internal/modules/cjs/loader:1361\n",
      "\u001b[1;31m  return process.dlopen(module, path.toNamespacedPath(filename));\n",
      "\u001b[1;31m                 ^\n",
      "\u001b[1;31m\n",
      "\u001b[1;31mError: The module '/opt/homebrew/lib/node_modules/ijavascript/node_modules/zeromq/build/Release/zmq.node'\n",
      "\u001b[1;31mwas compiled against a different Node.js version using\n",
      "\u001b[1;31mNODE_MODULE_VERSION 108. This version of Node.js requires\n",
      "\u001b[1;31mNODE_MODULE_VERSION 111. Please try re-compiling or re-installing\n",
      "\u001b[1;31mthe module (for instance, using `npm rebuild` or `npm install`).\n",
      "\u001b[1;31m    at Module._extensions..node (node:internal/modules/cjs/loader:1361:18)\n",
      "\u001b[1;31m    at Module.load (node:internal/modules/cjs/loader:1133:32)\n",
      "\u001b[1;31m    at Module._load (node:internal/modules/cjs/loader:972:12)\n",
      "\u001b[1;31m    at Module.require (node:internal/modules/cjs/loader:1157:19)\n",
      "\u001b[1;31m    at require (node:internal/modules/helpers:119:18)\n",
      "\u001b[1;31m    at load (/opt/homebrew/lib/node_modules/ijavascript/node_modules/node-gyp-build/index.js:22:10)\n",
      "\u001b[1;31m    at Object.<anonymous> (/opt/homebrew/lib/node_modules/ijavascript/node_modules/zeromq/binding.js:1:43)\n",
      "\u001b[1;31m    at Module._compile (node:internal/modules/cjs/loader:1275:14)\n",
      "\u001b[1;31m    at Module._extensions..js (node:internal/modules/cjs/loader:1329:10)\n",
      "\u001b[1;31m    at Module.load (node:internal/modules/cjs/loader:1133:32) {\n",
      "\u001b[1;31m  code: 'ERR_DLOPEN_FAILED'\n",
      "\u001b[1;31m}\n",
      "\u001b[1;31m\n",
      "\u001b[1;31mNode.js v19.9.0. \n",
      "\u001b[1;31mView Jupyter <a href='command:jupyter.viewOutput'>log</a> for further details."
     ]
    }
   ],
   "source": [
    "// Define an array of words to guess\n",
    "var words = [\"javascript\", \"html\", \"css\", \"python\", \"java\", \"ruby\"];\n",
    "\n",
    "// Choose a random word from the array\n",
    "var word = words[Math.floor(Math.random() * words.length)];\n",
    "\n",
    "// Create an array of underscores to represent each letter in the word\n",
    "var answerArray = [];\n",
    "for (var i = 0; i < word.length; i++) {\n",
    "\tanswerArray[i] = \"_\";\n",
    "}\n",
    "\n",
    "// Display the initial state of the word\n",
    "document.getElementById(\"feedback\").innerHTML = answerArray.join(\" \");\n",
    "\n",
    "// Function to check the user's guess\n",
    "function checkGuess() {\n",
    "\tvar guess = document.getElementById(\"guess\").value.toLowerCase();\n",
    "\tvar correctGuess = false;\n",
    "\n",
    "\t// Check if the guess is correct\n",
    "\tfor (var i = 0; i < word.length; i++) {\n",
    "\t\tif (guess === word[i]) {\n",
    "\t\t\tanswerArray[i] = guess;\n",
    "\t\t\tcorrectGuess = true;\n",
    "\t\t}\n",
    "\t}\n",
    "\n",
    "\t// Update the display\n",
    "\tdocument.getElementById(\"feedback\").innerHTML = answerArray.join(\" \");\n",
    "\n",
    "\t// Check if the game is over\n",
    "\tif (!answerArray.includes(\"_\")) {\n",
    "\t\tdocument.getElementById(\"feedback\").innerHTML = \"You win!\";\n",
    "\t} else if (!correctGuess) {\n",
    "\t\tdocument.getElementById(\"feedback\").innerHTML = \"Wrong guess, try again.\";\n",
    "\t}\n",
    "\n",
    "\t// Clear the guess input\n",
    "\tdocument.getElementById(\"guess\").value = \"\";\n",
    "}\n"
   ]
  }
 ],
 "metadata": {
  "kernelspec": {
   "display_name": "JavaScript (Node.js)",
   "language": "javascript",
   "name": "javascript"
  },
  "language_info": {
   "name": "javascript"
  },
  "orig_nbformat": 4
 },
 "nbformat": 4,
 "nbformat_minor": 2
}
